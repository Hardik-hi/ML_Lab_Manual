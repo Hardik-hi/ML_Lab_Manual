{
 "cells": [
  {
   "cell_type": "code",
   "execution_count": 26,
   "metadata": {},
   "outputs": [],
   "source": [
    "import numpy as np\n",
    "import matplotlib.pyplot as plt"
   ]
  },
  {
   "cell_type": "code",
   "execution_count": 27,
   "metadata": {},
   "outputs": [],
   "source": [
    "#finding coefficients\n",
    "def coeff(x,y):\n",
    "    num=np.sum((x-np.mean(x))*(y-np.mean(y)))\n",
    "    den=np.sum(np.square(x-np.mean(x)))\n",
    "\n",
    "    m=num/den\n",
    "    c=(np.mean(y)-np.mean(x)*m)\n",
    "\n",
    "    return [m,c]\n"
   ]
  },
  {
   "cell_type": "code",
   "execution_count": 28,
   "metadata": {},
   "outputs": [],
   "source": [
    "#to find predicted values of y\n",
    "def predicted(x,m,c):\n",
    "    pred=[]\n",
    "    for val in x:\n",
    "        pred.append(m*val+c)\n",
    "    return pred"
   ]
  },
  {
   "cell_type": "code",
   "execution_count": 29,
   "metadata": {},
   "outputs": [],
   "source": [
    "#to find r square value\n",
    "def r_square(y,yp):\n",
    "    num=np.sum(np.square((yp-np.mean(y))))\n",
    "    den=np.sum(np.square((y-np.mean(y))))\n",
    "\n",
    "    return num/den"
   ]
  },
  {
   "cell_type": "code",
   "execution_count": 30,
   "metadata": {},
   "outputs": [
    {
     "name": "stdout",
     "output_type": "stream",
     "text": [
      "[14.626666666666669, 13.040000000000001, 17.403333333333336, 17.8, 18.19666666666667, 18.593333333333334, 18.990000000000002, 19.386666666666667, 19.783333333333335, 20.18]\n",
      "0.10452465308532623\n"
     ]
    },
    {
     "data": {
      "image/png": "[encoded data removed]",
      "text/plain": [
       "<Figure size 432x288 with 1 Axes>"
      ]
     },
     "metadata": {
      "needs_background": "light"
     },
     "output_type": "display_data"
    }
   ],
   "source": [
    "def fun():\n",
    "    x = np.array([5, 1, 12, 13, 14, 15, 16, 17, 18, 19])\n",
    "    y = np.array([31, 3, 12, 18, 17, 18, 18, 19, 20, 22])\n",
    "\n",
    "    m,c=coeff(x,y)\n",
    "    yp=predicted(x,m,c)\n",
    "    print(yp)\n",
    "    print(r_square(y,yp))\n",
    "    plt.scatter(x,y,color = \"r\",marker = \"o\",s = 30)\n",
    "    \n",
    "    # plot the regression line\n",
    "    plt.plot(x,yp)\n",
    "    plt.xlabel('x')\n",
    "    plt.ylabel('y')\n",
    "    plt.show()\n",
    "\n",
    "fun()\n"
   ]
  },
  {
   "cell_type": "code",
   "execution_count": null,
   "metadata": {},
   "outputs": [],
   "source": []
  }
 ],
 "metadata": {
  "kernelspec": {
   "display_name": "Python 3.9.12 ('base')",
   "language": "python",
   "name": "python3"
  },
  "language_info": {
   "codemirror_mode": {
    "name": "ipython",
    "version": 3
   },
   "file_extension": ".py",
   "mimetype": "text/x-python",
   "name": "python",
   "nbconvert_exporter": "python",
   "pygments_lexer": "ipython3",
   "version": "3.9.12"
  },
  "orig_nbformat": 4,
  "vscode": {
   "interpreter": {
    "hash": "b302cdd1e032ee910f5c889c3360c28564c92ad4f326fc3102e39fbe47faee66"
   }
  }
 },
 "nbformat": 4,
 "nbformat_minor": 2
}
