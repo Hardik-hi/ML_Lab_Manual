{
 "cells": [
  {
   "cell_type": "code",
   "execution_count": 91,
   "metadata": {},
   "outputs": [],
   "source": [
    "import pandas as pd\n",
    "import numpy as np\n",
    "from sklearn.model_selection import train_test_split as tts"
   ]
  },
  {
   "cell_type": "code",
   "execution_count": 92,
   "metadata": {},
   "outputs": [],
   "source": [
    "df=pd.read_csv(\"iris.csv\")\n",
    "data=np.array(df)"
   ]
  },
  {
   "cell_type": "code",
   "execution_count": 93,
   "metadata": {},
   "outputs": [],
   "source": [
    "#splitting the test and training data\n",
    "attr=data[:,:-1]\n",
    "target=data[:,-1]\n",
    "attr_train,attr_test,target_train,target_test=tts(attr,target,shuffle=True,random_state=0,test_size=53)\n"
   ]
  },
  {
   "cell_type": "code",
   "execution_count": 94,
   "metadata": {},
   "outputs": [],
   "source": [
    "#function to evaluate class of a given point\n",
    "\n",
    "def knn_classifier(i,k):\n",
    "    l=[]\n",
    "    #for every training data calculate the distance from the testing data\n",
    "    for j,attr_row in enumerate(attr_train):\n",
    "        dis=np.sqrt(sum(np.square(val1-val2) for val1,val2 in zip(attr_row,i)))\n",
    "        l.append([dis,target_train[j]])\n",
    "\n",
    "    #pick top k smallest values in the temporary list\n",
    "    sorted_l=sorted(l)[:k]\n",
    "    class_list=[i.pop(1) for i in sorted_l]\n",
    "    return max(set(class_list),key=class_list.count)\n"
   ]
  },
  {
   "cell_type": "code",
   "execution_count": 95,
   "metadata": {},
   "outputs": [
    {
     "name": "stdout",
     "output_type": "stream",
     "text": [
      "0.9622641509433962\n",
      "['Virginica', 'Versicolor', 'Setosa', 'Virginica', 'Setosa', 'Virginica', 'Setosa', 'Versicolor', 'Versicolor', 'Versicolor', 'Virginica', 'Versicolor', 'Versicolor', 'Versicolor', 'Versicolor', 'Setosa', 'Versicolor', 'Versicolor', 'Setosa', 'Setosa', 'Virginica', 'Versicolor', 'Setosa', 'Setosa', 'Virginica', 'Setosa', 'Setosa', 'Versicolor', 'Versicolor', 'Setosa', 'Virginica', 'Versicolor', 'Setosa', 'Virginica', 'Virginica', 'Versicolor', 'Setosa', 'Virginica', 'Versicolor', 'Versicolor', 'Virginica', 'Setosa', 'Virginica', 'Setosa', 'Setosa', 'Versicolor', 'Virginica', 'Virginica', 'Versicolor', 'Virginica', 'Versicolor', 'Virginica', 'Versicolor']\n"
     ]
    }
   ],
   "source": [
    "#calling the function in a loop for the testing data\n",
    "\n",
    "predicted_class=[]\n",
    "\n",
    "for x in attr_test:\n",
    "    predicted_class.append(knn_classifier(x,3))\n",
    "\n",
    "acc=0\n",
    "\n",
    "for i,val in enumerate(target_test):\n",
    "    if val==predicted_class[i]:\n",
    "        acc+=1\n",
    "\n",
    "print(acc/len(target_test))\n",
    "print(predicted_class)"
   ]
  }
 ],
 "metadata": {
  "kernelspec": {
   "display_name": "Python 3.9.12 ('base')",
   "language": "python",
   "name": "python3"
  },
  "language_info": {
   "codemirror_mode": {
    "name": "ipython",
    "version": 3
   },
   "file_extension": ".py",
   "mimetype": "text/x-python",
   "name": "python",
   "nbconvert_exporter": "python",
   "pygments_lexer": "ipython3",
   "version": "3.9.12"
  },
  "orig_nbformat": 4,
  "vscode": {
   "interpreter": {
    "hash": "b302cdd1e032ee910f5c889c3360c28564c92ad4f326fc3102e39fbe47faee66"
   }
  }
 },
 "nbformat": 4,
 "nbformat_minor": 2
}
