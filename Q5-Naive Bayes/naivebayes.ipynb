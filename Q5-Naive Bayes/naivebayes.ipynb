{
 "cells": [
  {
   "cell_type": "code",
   "execution_count": 59,
   "metadata": {},
   "outputs": [],
   "source": [
    "import pandas as pd\n",
    "import numpy as np\n",
    "from sklearn.model_selection import train_test_split as tts\n",
    "import math"
   ]
  },
  {
   "cell_type": "code",
   "execution_count": null,
   "metadata": {},
   "outputs": [],
   "source": [
    "#reading the dataset\n",
    "dataset=np.array(pd.read_csv(\"naive.csv\",header=None))"
   ]
  },
  {
   "cell_type": "code",
   "execution_count": 61,
   "metadata": {},
   "outputs": [],
   "source": [
    "#splitting the dataset into training and testing\n",
    "t_size=int(len(dataset)*0.33)\n",
    "train,test=tts(dataset,test_size=t_size,shuffle=True,random_state=0)"
   ]
  },
  {
   "cell_type": "code",
   "execution_count": 62,
   "metadata": {},
   "outputs": [],
   "source": [
    "#function to summarize mean and sd of a given attribute set\n",
    "def summarize(ds):\n",
    "    #creates dictionary of tuples having mean and sd for the attr\n",
    "    summaries=[(np.mean(attr),np.std(attr)) for attr in zip(*ds)]\n",
    "    #remove target values\n",
    "    del summaries[-1]\n",
    "    return summaries"
   ]
  },
  {
   "cell_type": "code",
   "execution_count": 63,
   "metadata": {},
   "outputs": [],
   "source": [
    "#function to separate dataset by classes\n",
    "def separatebyclass(ds):\n",
    "    separated={}\n",
    "    for vec in ds:\n",
    "        if(vec[-1] not in separated):\n",
    "            separated[vec[-1]]=[]\n",
    "        separated[vec[-1]].append(vec)\n",
    "    return separated"
   ]
  },
  {
   "cell_type": "code",
   "execution_count": 64,
   "metadata": {},
   "outputs": [],
   "source": [
    "#function to summarise the whole dataset by classes\n",
    "def summarize_dataset(ds):\n",
    "    separated=separatebyclass(ds)\n",
    "    summaries={}\n",
    "    for class_label,instances in separated.items():\n",
    "        summaries[class_label]=summarize(instances) #get mean, sd of every attr row\n",
    "    return summaries"
   ]
  },
  {
   "cell_type": "code",
   "execution_count": 65,
   "metadata": {},
   "outputs": [],
   "source": [
    "#function to get the Gaussian probability of a given value\n",
    "def gaussian_prob(x,mean,sd):\n",
    "    expo=math.exp(-(math.pow(x-mean,2)/(2*sd*sd)))\n",
    "    return expo/((math.sqrt(2*math.pi))*sd)"
   ]
  },
  {
   "cell_type": "code",
   "execution_count": 66,
   "metadata": {},
   "outputs": [],
   "source": [
    "#function to get the probability for each class and predict the one with highest\n",
    "def predict(summaries,input_row):\n",
    "    #get probabilities for each class\n",
    "    probabilities={}\n",
    "    for class_label,summary in summaries.items():\n",
    "        probabilities[class_label]=1\n",
    "        for i in range(len(summary)):\n",
    "            mean,sd=summary[i]\n",
    "            probabilities[class_label]*=gaussian_prob(input_row[i],mean,sd)\n",
    "    \n",
    "    #to get the highest probability\n",
    "    best_label,best_prob=None,-1\n",
    "    for label,prob in probabilities.items():\n",
    "        if best_label is None or prob>best_prob:\n",
    "            best_label=label\n",
    "            best_prob=prob\n",
    "    \n",
    "    return best_label"
   ]
  },
  {
   "cell_type": "code",
   "execution_count": 67,
   "metadata": {},
   "outputs": [],
   "source": [
    "#function to predict labels for whole testset\n",
    "def getpredictions(summaries,testset):\n",
    "    predictions=[]\n",
    "    for row in testset:\n",
    "        predictions.append(predict(summaries,row))\n",
    "    return predictions"
   ]
  },
  {
   "cell_type": "code",
   "execution_count": 68,
   "metadata": {},
   "outputs": [],
   "source": [
    "#function to get preds!\n",
    "def finalfun():\n",
    "    #summarise training set\n",
    "    summaries=summarize_dataset(train)\n",
    "    predictions=getpredictions(summaries,test)\n",
    "\n",
    "    print(predictions)\n",
    "\n",
    "    match=0\n",
    "    for i in range(len(test)):\n",
    "        if predictions[i]==test[i][-1]:\n",
    "            match+=1\n",
    "    \n",
    "    print(\"Accuracy: \",match/len(test)*100)"
   ]
  },
  {
   "cell_type": "code",
   "execution_count": 69,
   "metadata": {},
   "outputs": [
    {
     "name": "stdout",
     "output_type": "stream",
     "text": [
      "[1.0, 0.0, 0.0, 1.0, 0.0, 0.0, 1.0, 1.0, 1.0, 1.0, 1.0, 1.0, 0.0, 1.0, 0.0, 0.0, 1.0, 0.0, 0.0, 0.0, 1.0, 0.0, 0.0, 0.0, 0.0, 0.0, 0.0, 1.0, 0.0, 0.0, 1.0, 0.0, 0.0, 0.0, 0.0, 1.0, 1.0, 0.0, 0.0, 1.0, 0.0, 0.0, 0.0, 1.0, 1.0, 0.0, 0.0, 0.0, 0.0, 0.0, 1.0, 0.0, 1.0, 1.0, 0.0, 0.0, 0.0, 0.0, 0.0, 0.0, 1.0, 1.0, 0.0, 0.0, 1.0, 1.0, 1.0, 0.0, 0.0, 0.0, 0.0, 0.0, 0.0, 1.0, 1.0, 0.0, 1.0, 1.0, 0.0, 0.0, 0.0, 1.0, 0.0, 0.0, 0.0, 0.0, 0.0, 0.0, 1.0, 0.0, 0.0, 0.0, 0.0, 0.0, 1.0, 0.0, 1.0, 1.0, 1.0, 0.0, 1.0, 0.0, 0.0, 0.0, 1.0, 0.0, 0.0, 0.0, 0.0, 1.0, 0.0, 1.0, 1.0, 1.0, 1.0, 1.0, 0.0, 1.0, 0.0, 1.0, 0.0, 1.0, 0.0, 1.0, 0.0, 0.0, 0.0, 0.0, 0.0, 0.0, 0.0, 0.0, 0.0, 1.0, 0.0, 1.0, 0.0, 0.0, 0.0, 0.0, 0.0, 1.0, 0.0, 0.0, 0.0, 0.0, 0.0, 0.0, 0.0, 0.0, 0.0, 1.0, 0.0, 0.0, 1.0, 0.0, 1.0, 0.0, 0.0, 1.0, 1.0, 1.0, 0.0, 0.0, 1.0, 0.0, 1.0, 0.0, 0.0, 0.0, 0.0, 0.0, 0.0, 0.0, 1.0, 0.0, 1.0, 0.0, 0.0, 0.0, 0.0, 1.0, 0.0, 1.0, 1.0, 0.0, 0.0, 0.0, 0.0, 0.0, 0.0, 0.0, 0.0, 0.0, 0.0, 1.0, 1.0, 1.0, 0.0, 0.0, 0.0, 0.0, 0.0, 1.0, 0.0, 0.0, 0.0, 0.0, 0.0, 0.0, 0.0, 0.0, 0.0, 0.0, 0.0, 1.0, 1.0, 0.0, 0.0, 0.0, 0.0, 0.0, 1.0, 1.0, 1.0, 1.0, 0.0, 0.0, 0.0, 0.0, 1.0, 1.0, 0.0, 1.0, 1.0, 0.0, 0.0, 1.0, 0.0, 1.0, 1.0, 0.0, 0.0, 0.0, 0.0, 1.0, 0.0, 1.0, 1.0, 1.0, 0.0, 1.0, 0.0]\n",
      "Accuracy:  71.93675889328063\n"
     ]
    }
   ],
   "source": [
    "finalfun()"
   ]
  },
  {
   "cell_type": "code",
   "execution_count": null,
   "metadata": {},
   "outputs": [],
   "source": []
  }
 ],
 "metadata": {
  "kernelspec": {
   "display_name": "Python 3.9.12 ('base')",
   "language": "python",
   "name": "python3"
  },
  "language_info": {
   "codemirror_mode": {
    "name": "ipython",
    "version": 3
   },
   "file_extension": ".py",
   "mimetype": "text/x-python",
   "name": "python",
   "nbconvert_exporter": "python",
   "pygments_lexer": "ipython3",
   "version": "3.9.12"
  },
  "orig_nbformat": 4,
  "vscode": {
   "interpreter": {
    "hash": "b302cdd1e032ee910f5c889c3360c28564c92ad4f326fc3102e39fbe47faee66"
   }
  }
 },
 "nbformat": 4,
 "nbformat_minor": 2
}
